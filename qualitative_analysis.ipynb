{
 "cells": [
  {
   "cell_type": "code",
   "execution_count": null,
   "metadata": {},
   "outputs": [],
   "source": [
    "import csv, json\n",
    "from csv_jsonl import JSONLinesDictWriter\n",
    "import re\n",
    "from evaluate import load\n",
    "import torch\n",
    "import pandas as pd\n",
    "import os\n",
    "from collections import Counter\n",
    "import seaborn as sns\n",
    "# import pyplot\n",
    "import matplotlib.pyplot as plt"
   ]
  },
  {
   "cell_type": "code",
   "execution_count": null,
   "metadata": {},
   "outputs": [],
   "source": [
    "def read_and_prepare_data(path):\n",
    "    with open(path, encoding=\"utf-8\") as f:\n",
    "        lines = f.read().splitlines()\n",
    "        df_inter = pd.DataFrame(lines)\n",
    "        df_inter.columns = ['json_element']\n",
    "        df_inter['json_element'].apply(json.loads)\n",
    "        df_final = pd.json_normalize(df_inter['json_element'].apply(json.loads))\n",
    "        \n",
    "        return df_final"
   ]
  },
  {
   "cell_type": "code",
   "execution_count": null,
   "metadata": {},
   "outputs": [],
   "source": [
    "def read_and_prepare_multirc_data(df):\n",
    "    df = df.explode(\"passage.questions\").reset_index(drop=True)\n",
    "    df = df.join(pd.json_normalize(df[\"passage.questions\"]), lsuffix=\"_original\").drop(columns=['passage.questions'])\n",
    "    df = df.explode(\"answers\").reset_index(drop=True)\n",
    "    df[\"label\"] = df.apply(lambda row: map_label_multirc(row), axis=1)\n",
    "    return df"
   ]
  },
  {
   "cell_type": "code",
   "execution_count": null,
   "metadata": {},
   "outputs": [],
   "source": [
    "def read_predictions(path, dataset):\n",
    "    best_models_predictions = {}\n",
    "    for filename in os.listdir(path):\n",
    "        test_pred_file = os.listdir(f\"{path}/{filename}\")[0]\n",
    "        test_preds = torch.load(os.path.join(f\"{path}/{filename}\", test_pred_file))\n",
    "        \n",
    "        if f'{dataset}' in test_preds:\n",
    "            best_models_predictions[filename] = list(test_preds[f'{dataset}']['preds'])\n",
    "        else:\n",
    "            best_models_predictions[filename] = list(test_preds[f'{dataset}_mk']['preds'])\n",
    "    return best_models_predictions   "
   ]
  },
  {
   "cell_type": "code",
   "execution_count": null,
   "metadata": {},
   "outputs": [],
   "source": [
    "def merge_data(original_data_path, predictions_path, dataset):\n",
    "    df = read_and_prepare_data(original_data_path)\n",
    "    if dataset==\"multirc\":\n",
    "        df = read_and_prepare_multirc_data(df)\n",
    "        \n",
    "    best_models_predictions = read_predictions(predictions_path, dataset)\n",
    "    for model, preds in best_models_predictions.items():\n",
    "        df[model] = preds\n",
    "    \n",
    "    return df, list(best_models_predictions.keys())"
   ]
  },
  {
   "cell_type": "code",
   "execution_count": null,
   "metadata": {},
   "outputs": [],
   "source": [
    "def map_predictions_boolq(elt):\n",
    "    if elt == 0:\n",
    "        return False\n",
    "    return True"
   ]
  },
  {
   "cell_type": "code",
   "execution_count": null,
   "metadata": {},
   "outputs": [],
   "source": [
    "def map_label_multirc(row):\n",
    "    return  row[\"answers\"][\"label\"]"
   ]
  },
  {
   "cell_type": "code",
   "execution_count": null,
   "metadata": {},
   "outputs": [],
   "source": [
    "def count_total(row, dataset):\n",
    "    label = row[\"label\"]\n",
    "    if dataset==\"copa\":\n",
    "        counter = Counter(list(row[6:]))\n",
    "    else:\n",
    "        counter = Counter(list(row[7:]))\n",
    "    return counter[label]\n",
    "\n",
    "def count_total_percentage(row, dataset):\n",
    "    if dataset==\"copa\":\n",
    "        return round(row[\"total_correct\"]/16*100,2)\n",
    "    else:\n",
    "        return round(row[\"total_correct\"]/15*100,2)\n",
    "\n",
    "def add_counts(df, dataset):\n",
    "    df[\"total_correct\"] = df.apply(lambda x: count_total(x, dataset), axis=1)\n",
    "    df[\"total_correct_percentage\"] = df.apply(lambda x: count_total_percentage(x, dataset), axis=1)\n",
    "    df.sort_values([\"total_correct_percentage\", \"idx\"], inplace=True) \n",
    "    return df"
   ]
  },
  {
   "cell_type": "markdown",
   "metadata": {},
   "source": [
    "## BoolQ"
   ]
  },
  {
   "cell_type": "code",
   "execution_count": null,
   "metadata": {},
   "outputs": [],
   "source": [
    "# Passage & questions separately\n",
    "boolq_dataset_distribution = {}\n",
    "for elt in [\"train\", \"val\", \"test\"]:\n",
    "    df = read_and_prepare_data(f\"BoolQ/{elt}.jsonl\")\n",
    "    boolq_dataset_distribution[elt] = len(df)\n",
    "df_boolq_distribution = pd.DataFrame({'Data sets': [\"train\", \"val\", \"test\"], 'Size': list(boolq_dataset_distribution.values())})"
   ]
  },
  {
   "cell_type": "code",
   "execution_count": null,
   "metadata": {},
   "outputs": [],
   "source": [
    "fig,ax = plt.subplots(figsize=(8,6))\n",
    "sns.set_color_codes(\"pastel\")\n",
    "sns.set_style(\"whitegrid\", {\"grid.linestyle\": \":\"})\n",
    "sns.barplot(y=\"Size\", width=0.5, x=\"Data sets\", data=df_boolq_distribution, palette='pastel', orient='v')\n",
    "ax.bar_label(ax.containers[0], padding=5)\n",
    "# ax.bar_label(ax.containers[1], padding=5)\n",
    "ax.spines['top'].set_visible(False)\n",
    "ax.spines['bottom'].set_visible(False)\n",
    "ax.spines['left'].set_visible(False)\n",
    "ax.spines['right'].set_visible(False)\n",
    "# ax.set_xlim(0,480)\n",
    "ax.set_ylabel('Number of samples', rotation=90, labelpad=12, fontsize=15)\n",
    "ax.set_xlabel('Data set', rotation=0, labelpad=25, fontsize=15)\n",
    "ax.margins(y=0.01)\n",
    "# ax.bar(height=10)\n",
    "ax.set_title('BoolQ', fontsize=20, pad=20)\n",
    "# ax.legend(loc='right',title='Choice type')\n",
    "# ax.xaxis.grid(True) \n",
    "plt.tight_layout()\n",
    "fig = ax.get_figure()\n",
    "fig.savefig(\"boolq_distribution.png\", bbox_inches='tight') \n",
    "plt.savefig('boolq_distribution.pdf')"
   ]
  },
  {
   "cell_type": "markdown",
   "metadata": {},
   "source": [
    "## COPA"
   ]
  },
  {
   "cell_type": "code",
   "execution_count": null,
   "metadata": {},
   "outputs": [],
   "source": [
    "dtype=\"test\"\n",
    "dataset=\"copa\"\n",
    "predictions_path = \"Best Models/COPA\"\n",
    "original_dataset_dest = f\"Best Models/COPA data/{dtype}.jsonl\"\n",
    "df, models = merge_data(original_dataset_dest, predictions_path, dataset)"
   ]
  },
  {
   "cell_type": "code",
   "execution_count": null,
   "metadata": {},
   "outputs": [],
   "source": [
    "df = add_counts(df, dataset)"
   ]
  },
  {
   "cell_type": "code",
   "execution_count": null,
   "metadata": {},
   "outputs": [],
   "source": [
    "total_effect = len(df[df[\"question\"]==\"effect\"])\n",
    "total_cause = len(df[df[\"question\"]==\"cause\"])\n",
    "models_lst = []\n",
    "effect_p = []\n",
    "cause_p = []\n",
    "\n",
    "print(f\"Total effect: {total_effect}\\tTotal cause:{total_cause}\\n\")\n",
    "for model in models:\n",
    "    counter_effect = len(df[(df[\"label\"]==df[model]) & (df[\"question\"]==\"effect\")])\n",
    "    counter_cause = len(df[(df[\"label\"]==df[model]) & (df[\"question\"]==\"cause\")])\n",
    "    print(f\"\\tCount_effect % = {(counter_effect/total_effect)*100:0.2f}%, \\tCount_cause % = {(counter_cause/total_cause)*100:0.2f}%\\n\")\n",
    "    \n",
    "    models_lst.append(model)\n",
    "    effect_p.append(round(counter_effect/total_effect*100,2))\n",
    "    cause_p.append(round(counter_cause/total_cause*100,2))"
   ]
  },
  {
   "cell_type": "code",
   "execution_count": null,
   "metadata": {},
   "outputs": [],
   "source": [
    "df_copa_results = pd.DataFrame({'Models': models_lst, 'effect': effect_p, 'cause': cause_p})"
   ]
  },
  {
   "cell_type": "code",
   "execution_count": null,
   "metadata": {},
   "outputs": [],
   "source": [
    "df_copa_results.head()"
   ]
  },
  {
   "cell_type": "code",
   "execution_count": null,
   "metadata": {},
   "outputs": [],
   "source": [
    "df2 = pd.melt(df_copa_results, id_vars=['Models'], value_vars=['effect','cause'], var_name='Choice type')"
   ]
  },
  {
   "cell_type": "code",
   "execution_count": null,
   "metadata": {},
   "outputs": [],
   "source": [
    "fig,ax = plt.subplots(figsize=(10,10))\n",
    "sns.set_color_codes(\"pastel\")\n",
    "sns.set_style(\"whitegrid\", {\"grid.linestyle\": \":\"})\n",
    "sns.barplot(x=\"value\", y=\"Models\", hue=\"Choice type\", data=df2, palette='pastel')\n",
    "ax.bar_label(ax.containers[0], fmt='%.2f%%', padding=5)\n",
    "ax.bar_label(ax.containers[1], fmt='%.2f%%', padding=5)\n",
    "ax.spines['top'].set_visible(False)\n",
    "ax.spines['bottom'].set_visible(False)\n",
    "ax.spines['left'].set_visible(False)\n",
    "ax.spines['right'].set_visible(False)\n",
    "ax.set_xlim(0,101)\n",
    "ax.set_xlabel('Percentage of correct answers', rotation=0, labelpad=12, fontsize=15)\n",
    "ax.set_ylabel('Model', rotation=90, labelpad=25, fontsize=15)\n",
    "ax.margins(y=0.01)\n",
    "# ax.xaxis.grid(True) \n",
    "plt.tight_layout()\n",
    "fig = ax.get_figure()\n",
    "fig.savefig(\"copa.png\", bbox_inches='tight') \n",
    "plt.savefig('copa.pdf')"
   ]
  },
  {
   "cell_type": "code",
   "execution_count": null,
   "metadata": {
    "scrolled": true
   },
   "outputs": [],
   "source": [
    "copa_dataset_distribution = {\"train\": 400, \"val\": 100, \"test\": 500}\n",
    "copa_type_distribution = {}\n",
    "effects = []\n",
    "causes = []\n",
    "for elt in [\"train\", \"val\", \"test\"]:\n",
    "    df = read_and_prepare_data(f\"COPA/{elt}.jsonl\")\n",
    "    total_effect = len(df[df[\"question\"]==\"effect\"])\n",
    "    total_cause = len(df[df[\"question\"]==\"cause\"])\n",
    "    effects.append(total_effect)\n",
    "    causes.append(total_cause)\n",
    "    copa_type_distribution[elt] = [total_effect, total_cause]"
   ]
  },
  {
   "cell_type": "code",
   "execution_count": null,
   "metadata": {},
   "outputs": [],
   "source": [
    "df_copa_distribution = pd.DataFrame({'Data sets': [\"train\", \"val\", \"test\"], 'effect': effects, 'cause': causes})\n",
    "df_copa_distribution_2 = pd.melt(df_copa_distribution, id_vars=['Data sets'], value_vars=['effect','cause'], var_name='Choice type')\n",
    "# df2"
   ]
  },
  {
   "cell_type": "code",
   "execution_count": null,
   "metadata": {},
   "outputs": [],
   "source": [
    "fig,ax = plt.subplots(figsize=(9,6))\n",
    "sns.set_color_codes(\"pastel\")\n",
    "sns.set_style(\"whitegrid\", {\"grid.linestyle\": \":\"})\n",
    "sns.barplot(y=\"value\", x=\"Data sets\", hue=\"Choice type\", data=df_copa_distribution_2, palette='pastel', orient='v')\n",
    "ax.bar_label(ax.containers[0], padding=5)\n",
    "ax.bar_label(ax.containers[1], padding=5)\n",
    "ax.spines['top'].set_visible(False)\n",
    "ax.spines['bottom'].set_visible(False)\n",
    "ax.spines['left'].set_visible(False)\n",
    "ax.spines['right'].set_visible(False)\n",
    "ax.set_ylim(0,280)\n",
    "ax.set_ylabel('Number of samples', rotation=90, labelpad=12, fontsize=15)\n",
    "ax.set_xlabel('Data set', rotation=0, labelpad=25, fontsize=15)\n",
    "ax.margins(y=0.01)\n",
    "ax.set_title('COPA', fontsize=20, pad=20)\n",
    "ax.legend(loc='upper right',title='Choice type',bbox_to_anchor=(1.2,0.5))\n",
    "# ax.xaxis.grid(True) \n",
    "plt.tight_layout()\n",
    "fig = ax.get_figure()\n",
    "fig.savefig(\"copa_distribution.png\", bbox_inches='tight') \n",
    "plt.savefig('copa_distribution.pdf')"
   ]
  },
  {
   "cell_type": "markdown",
   "metadata": {},
   "source": [
    "## MultiRC"
   ]
  },
  {
   "cell_type": "code",
   "execution_count": null,
   "metadata": {},
   "outputs": [],
   "source": [
    "dataset=\"multirc\"\n",
    "dtype=\"test\"\n",
    "predictions_path = \"Best Models/MultiRC\"\n",
    "original_dataset_dest = f\"Best Models/MultiRC data/{dtype}.jsonl\"\n",
    "df, models = merge_data(original_dataset_dest, predictions_path, dataset)"
   ]
  },
  {
   "cell_type": "code",
   "execution_count": null,
   "metadata": {},
   "outputs": [],
   "source": [
    "df.head()"
   ]
  },
  {
   "cell_type": "code",
   "execution_count": null,
   "metadata": {},
   "outputs": [],
   "source": [
    "df = add_counts(df, dataset)"
   ]
  },
  {
   "cell_type": "code",
   "execution_count": null,
   "metadata": {},
   "outputs": [],
   "source": [
    "df.to_csv(\"Best Models/multirc_evaluation.csv\", encoding=\"utf-8\")"
   ]
  },
  {
   "cell_type": "markdown",
   "metadata": {},
   "source": [
    "### Dataset distribution"
   ]
  },
  {
   "cell_type": "code",
   "execution_count": null,
   "metadata": {},
   "outputs": [],
   "source": [
    "# Passage & questions separately\n",
    "multirc_dataset_distribution = {}\n",
    "multirc_questions_distribution = {}\n",
    "for elt in [\"train\", \"val\", \"test\"]:\n",
    "    df = read_and_prepare_data(f\"MultiRC/{elt}.jsonl\")\n",
    "    multirc_dataset_distribution[elt] = len(df)\n",
    "    df = df.explode(\"passage.questions\").reset_index(drop=True)\n",
    "    multirc_questions_distribution[elt] = len(df)"
   ]
  },
  {
   "cell_type": "code",
   "execution_count": null,
   "metadata": {},
   "outputs": [],
   "source": [
    "df_multirc_distribution = pd.DataFrame({'Data sets': [\"train\", \"val\", \"test\"], 'Size': list(multirc_dataset_distribution.values())})\n",
    "df_multirc_questions = pd.DataFrame({'Data sets': [\"train\", \"val\", \"test\"], 'Size': list(multirc_questions_distribution.values())})\n"
   ]
  },
  {
   "cell_type": "code",
   "execution_count": null,
   "metadata": {},
   "outputs": [],
   "source": [
    "fig,ax = plt.subplots(figsize=(8,6))\n",
    "sns.set_color_codes(\"pastel\")\n",
    "sns.set_style(\"whitegrid\", {\"grid.linestyle\": \":\"})\n",
    "sns.barplot(y=\"Size\", width=0.5, x=\"Data sets\", data=df_multirc_distribution, palette='pastel', orient='v')\n",
    "ax.bar_label(ax.containers[0], padding=5)\n",
    "ax.spines['top'].set_visible(False)\n",
    "ax.spines['bottom'].set_visible(False)\n",
    "ax.spines['left'].set_visible(False)\n",
    "ax.spines['right'].set_visible(False)\n",
    "ax.set_ylabel('Number of paragraphs', rotation=90, labelpad=12, fontsize=15)\n",
    "ax.set_xlabel('Data set', rotation=0, labelpad=25, fontsize=15)\n",
    "ax.margins(y=0.01)\n",
    "ax.set_title('MultiRC', fontsize=20, pad=20)\n",
    "plt.tight_layout()\n",
    "fig = ax.get_figure()\n",
    "fig.savefig(\"multirc_passages.png\", bbox_inches='tight') \n",
    "plt.savefig('multirc_passages.pdf')"
   ]
  },
  {
   "cell_type": "code",
   "execution_count": null,
   "metadata": {},
   "outputs": [],
   "source": [
    "fig,ax = plt.subplots(figsize=(8,6))\n",
    "sns.set_color_codes(\"pastel\")\n",
    "sns.set_style(\"whitegrid\", {\"grid.linestyle\": \":\"})\n",
    "sns.barplot(y=\"Size\", width=0.5, x=\"Data sets\", data=df_multirc_questions, palette='pastel', orient='v')\n",
    "ax.bar_label(ax.containers[0], padding=5)\n",
    "# ax.bar_label(ax.containers[1], padding=5)\n",
    "ax.spines['top'].set_visible(False)\n",
    "ax.spines['bottom'].set_visible(False)\n",
    "ax.spines['left'].set_visible(False)\n",
    "ax.spines['right'].set_visible(False)\n",
    "# ax.set_xlim(0,480)\n",
    "ax.set_ylabel('Number of questions', rotation=90, labelpad=12, fontsize=15)\n",
    "ax.set_xlabel('Data set', rotation=0, labelpad=25, fontsize=15)\n",
    "ax.margins(y=0.01)\n",
    "# ax.bar(height=10)\n",
    "ax.set_title('MultiRC', fontsize=20, pad=20)\n",
    "# ax.legend(loc='right',title='Choice type')\n",
    "# ax.xaxis.grid(True) \n",
    "plt.tight_layout()\n",
    "fig = ax.get_figure()\n",
    "fig.savefig(\"multirc_questions.png\", bbox_inches='tight') \n",
    "plt.savefig('multirc_questions.pdf')"
   ]
  },
  {
   "cell_type": "code",
   "execution_count": null,
   "metadata": {},
   "outputs": [],
   "source": [
    "## Answers distribution\n",
    "multirc_answer_distribution = {}\n",
    "for elt in [\"train\", \"val\", \"test\"]:\n",
    "    df = read_and_prepare_data(f\"MultiRC/{elt}.jsonl\")\n",
    "    df = df.explode(\"passage.questions\").reset_index(drop=True)\n",
    "    df = df.join(pd.json_normalize(df[\"passage.questions\"]), lsuffix=\"_original\").drop(columns=['passage.questions'])\n",
    "    df = df.explode(\"answers\").reset_index(drop=True)\n",
    "    df = df[['question', 'answers']]\n",
    "    df2 = df.groupby('question').count()\n",
    "    \n",
    "    colors = {\"train\": \"#abc9ea\", \"val\": \"#efb792\", \"test\":\"#98daa7\"}\n",
    "    fig,ax = plt.subplots(figsize=(8,6))\n",
    "    sns.set_color_codes(\"pastel\")\n",
    "    sns.set_style(\"whitegrid\", {\"grid.linestyle\": \":\"})\n",
    "    sns.histplot(data=df2, x=\"answers\", binwidth=1, color=colors[elt])\n",
    "    # ax.bar_label(ax.containers[0], padding=5)\n",
    "    # ax.bar_label(ax.containers[1], padding=5)\n",
    "    ax.spines['top'].set_visible(False)\n",
    "    ax.spines['bottom'].set_visible(False)\n",
    "    ax.spines['left'].set_visible(False)\n",
    "    ax.spines['right'].set_visible(False)\n",
    "    # ax.set_xlim(0,480)\n",
    "    ax.set_ylabel('Frequency', rotation=90, labelpad=12, fontsize=15)\n",
    "#     ax.yaxis.label.set_visible(False)\n",
    "    if elt == \"val\":\n",
    "        elt = \"validation\"\n",
    "    ax.set_xlabel(f'Number of answers per question in {elt} set', rotation=0, labelpad=25, fontsize=15)\n",
    "    ax.margins(y=0.01)\n",
    "    # ax.bar(height=10)\n",
    "    ax.set_title('MultiRC', fontsize=20, pad=20)\n",
    "    # ax.legend(loc='right',title='Choice type')\n",
    "    # ax.xaxis.grid(True) \n",
    "    plt.tight_layout()\n",
    "    fig = ax.get_figure()\n",
    "    fig.savefig(f\"multirc_histogram_{elt}.png\", bbox_inches='tight') \n",
    "    plt.savefig(f'multirc_histogram{elt}.pdf')"
   ]
  },
  {
   "cell_type": "code",
   "execution_count": null,
   "metadata": {},
   "outputs": [],
   "source": []
  }
 ],
 "metadata": {
  "kernelspec": {
   "display_name": "Python 3",
   "language": "python",
   "name": "python3"
  },
  "language_info": {
   "codemirror_mode": {
    "name": "ipython",
    "version": 3
   },
   "file_extension": ".py",
   "mimetype": "text/x-python",
   "name": "python",
   "nbconvert_exporter": "python",
   "pygments_lexer": "ipython3",
   "version": "3.6.10"
  },
  "varInspector": {
   "cols": {
    "lenName": 16,
    "lenType": 16,
    "lenVar": 40
   },
   "kernels_config": {
    "python": {
     "delete_cmd_postfix": "",
     "delete_cmd_prefix": "del ",
     "library": "var_list.py",
     "varRefreshCmd": "print(var_dic_list())"
    },
    "r": {
     "delete_cmd_postfix": ") ",
     "delete_cmd_prefix": "rm(",
     "library": "var_list.r",
     "varRefreshCmd": "cat(var_dic_list()) "
    }
   },
   "types_to_exclude": [
    "module",
    "function",
    "builtin_function_or_method",
    "instance",
    "_Feature"
   ],
   "window_display": false
  }
 },
 "nbformat": 4,
 "nbformat_minor": 5
}
